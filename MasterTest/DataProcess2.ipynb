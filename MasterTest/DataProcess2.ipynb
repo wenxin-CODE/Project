{
 "cells": [
  {
   "cell_type": "code",
   "execution_count": 6,
   "metadata": {},
   "outputs": [
    {
     "name": "stdout",
     "output_type": "stream",
     "text": [
      "                                 bmh\n",
      "zzllm wgym ywk1m ywk2m zzllkddm     \n",
      "101   000  000   000   6103      112\n",
      "                       6105       67\n",
      "                       6107       55\n",
      "                       6111      111\n",
      "                       6112      118\n",
      "...                              ...\n",
      "199   204  000   000   6156      297\n",
      "                       6157      479\n",
      "                       6158      162\n",
      "                       6159       75\n",
      "                       6160      276\n",
      "\n",
      "[1237 rows x 1 columns]\n",
      "                                 bmh\n",
      "zzllm wgym ywk1m ywk2m zzllkddm     \n",
      "101   000  000   000   6103      112\n",
      "                       6105       67\n",
      "                       6107       55\n",
      "                       6111      111\n",
      "                       6112      118\n",
      "...                              ...\n",
      "199   204  000   000   6156      297\n",
      "                       6157      479\n",
      "                       6158      162\n",
      "                       6159       75\n",
      "                       6160      276\n",
      "\n",
      "[1237 rows x 1 columns]\n",
      "172888\n"
     ]
    }
   ],
   "source": [
    "import pandas as pd\n",
    "from dbfread import DBF\n",
    "#修改属性值\n",
    "path = 'D:\\\\IPMIProject\\\\master test\\\\20231223.dbf' # 文件目录\n",
    "table = DBF(path, encoding='GBK')\n",
    "df = pd.DataFrame(iter(table))\n",
    "# print(df.columns)\n",
    "allowed_values1 = ['101','109','199']\n",
    "allowed_values2 = ['201','202','203','204']\n",
    "allowed_values3 = ['301','302','303','306','307','311','312','313','314','315','333','396','397','398']\n",
    "allowed_values4 = ['408','414','415','497','498']\n",
    "df.loc[~df['ZZLLM'].isin(allowed_values1), 'ZZLLM'] = '000'\n",
    "df.loc[~df['WGYM'].isin(allowed_values2), 'WGYM'] = '000'\n",
    "df.loc[~df['YWK1M'].isin(allowed_values3), 'YWK1M'] = '000'\n",
    "df.loc[~df['YWK2M'].isin(allowed_values4), 'YWK2M'] = '000'\n",
    "# print(df)\n",
    "df.columns = df.columns.map(str.lower)\n",
    "\n",
    "#对修改后的值进行分类\n",
    "df1 = df[[\"bmh\",\"zzllm\",\"wgym\",\"ywk1m\",\"ywk2m\",\"zzllkddm\"]]\n",
    "# print(df1)\n",
    "\n",
    "# 使用其中的四个属性进行分组\n",
    "df2 = df1.groupby([\"zzllm\",\"wgym\",\"ywk1m\",\"ywk2m\",\"zzllkddm\"]).count()\n",
    "print(df2)\n",
    "df2.fillna(method='bfill', inplace=True)\n",
    "print(df2)\n",
    "df2.to_excel(\"classfier.xlsx\")\n",
    "print(df2['bmh'].sum())"
   ]
  },
  {
   "cell_type": "code",
   "execution_count": 7,
   "metadata": {},
   "outputs": [],
   "source": [
    "# 读取数据，并按照zzllkddm进行分组\n",
    "path = 'D:\\\\IPMIProject\\\\master test\\\\20231223.dbf' # 文件目录\n",
    "table = DBF(path, encoding='GBK')\n",
    "arr = pd.DataFrame(iter(table))\n",
    "allowed_values1 = ['101','109','199']\n",
    "allowed_values2 = ['201','202','203','204']\n",
    "allowed_values3 = ['301','302','303','306','307','311','312','313','314','315','333','396','397','398']\n",
    "allowed_values4 = ['408','414','415','497','498']\n",
    "arr.loc[~arr['ZZLLM'].isin(allowed_values1), 'ZZLLM'] = '000'\n",
    "arr.loc[~arr['WGYM'].isin(allowed_values2), 'WGYM'] = '000'\n",
    "arr.loc[~arr['YWK1M'].isin(allowed_values3), 'YWK1M'] = '000'\n",
    "arr.loc[~arr['YWK2M'].isin(allowed_values4), 'YWK2M'] = '000'\n",
    "arr.columns = arr.columns.map(str.lower)\n",
    "\n",
    "# arr = df[[\"bmh\",\"zzllm\",\"wgym\",\"ywk1m\",\"ywk2m\",\"zzllkddm\"]]\n",
    "list1 = arr['zzllkddm'].unique()\n",
    "groups = arr.groupby(\"zzllkddm\")\n",
    "for i in arr['zzllkddm'].unique():\n",
    "    groups.get_group(i).to_excel(str(i)+\".xlsx\")\n"
   ]
  },
  {
   "cell_type": "code",
   "execution_count": 9,
   "metadata": {},
   "outputs": [],
   "source": [
    "# 统计每个考点有多少类别，以及每个类别有多少人，参考属性有[\"zzllmc\",\"wgymc\",\"ywk1mc\",\"ywk2mc\",\"bkdwdm\"]\n",
    "\n",
    "for i in arr['zzllkddm'].unique():\n",
    "    df1 = pd.read_excel(str(i)+\".xlsx\")\n",
    "\n",
    "    # 使用其中的四个属性进行分组,\"bkdwdm\"\n",
    "    df2 = df1.groupby([\"bmh\",\"zzllm\",\"wgym\",\"ywk1m\",\"ywk2m\",\"zzllkddm\"]).count()\n",
    "    df2.to_excel(\"classfier\"+str(i)+\".xlsx\")\n",
    "\n",
    "# 结果里面bmh表示的是每个专业的人数"
   ]
  },
  {
   "cell_type": "code",
   "execution_count": 11,
   "metadata": {},
   "outputs": [
    {
     "name": "stdout",
     "output_type": "stream",
     "text": [
      "0\n"
     ]
    }
   ],
   "source": [
    "import numpy as np\n",
    "\n",
    "# 数据预处理、提取出每个考点，每个专业的人数\n",
    "sums = 0\n",
    "# print(list1)\n",
    "for i in arr['zzllkddm'].unique():\n",
    "    # .fillna(method=\"ffill\")向下填充\n",
    "    res = pd.read_excel(\"classfier\"+str(i)+\".xlsx\").fillna(method=\"ffill\")\n",
    "    # dataframe按各专业人数一列排序，inplace原地排序，ascending升序\n",
    "    # res.sort_values(by=\"bmh\",inplace=True,ascending=False)\n",
    "    # 取出各专业人数一列转为array\n",
    "    # 若存在控制需要填充\n",
    "    # res = res.fillna(res['bmh'].mean())\n",
    "    res[\"bmh\"]=1\n",
    "    StuNum = res[[\"bmh\",\"zzllm\",\"wgym\",\"ywk1m\",\"ywk2m\",\"bkdwdm\"]]\n",
    "    # StuNum.groupby([\"zzllm\",\"wgym\",\"ywk1m\",\"ywk2m\",\"bkdwdm\"]).count()\n",
    "    # sums += res['bmh'].sum()\n",
    "    result = StuNum.groupby([\"zzllm\",\"wgym\",\"ywk1m\",\"ywk2m\",\"bkdwdm\"]).agg(  \n",
    "        # value=('value', 'sum'),  # 对'value'列使用'sum'聚合  \n",
    "    # 对'info'列使用'first'聚合（或'last'、'min'、'max'等）  \n",
    "        count=('bmh', 'size')  # 使用'size'来计算每个组的行数，并将其作为'count'列  \n",
    "    ).reset_index()\n",
    "    np.savetxt(\"classfier\"+str(i)+\".txt\",StuNum,fmt=\"%d,%s,%s,%s,%s,%s\",delimiter=\" \")\n",
    "\n",
    "print(sums)"
   ]
  },
  {
   "cell_type": "code",
   "execution_count": null,
   "metadata": {},
   "outputs": [
    {
     "name": "stdout",
     "output_type": "stream",
     "text": [
      "WARNING *** OLE2 inconsistency: SSCS size is 0 but SSAT size is non-zero\n",
      "*** No CODEPAGE record, no encoding_override: will use 'iso-8859-1'\n",
      "      zzllkddm zzllkcbh  renshu\n",
      "0         6103        1      30\n",
      "1         6103       10      30\n",
      "2         6103      100      30\n",
      "3         6103      101      30\n",
      "4         6103      102      30\n",
      "...        ...      ...     ...\n",
      "5420      6160      103      30\n",
      "5421      6160      104      30\n",
      "5422      6160      105      30\n",
      "5423      6160      106      30\n",
      "5424      6160      107      16\n",
      "\n",
      "[5425 rows x 3 columns]\n",
      "[30, 30, 30, 30, 30, 30, 30, 30, 30, 30, 30, 30, 30, 30, 30, 30, 30, 30, 30, 30, 30, 30, 30, 30, 30, 30, 30, 30, 30, 30, 30, 30, 30, 30, 30, 30, 30, 30, 30, 30, 30, 30, 30, 30, 30, 30, 30, 30, 30, 30, 30, 30, 30, 29, 30, 30, 30, 31, 30, 30, 30, 30, 30, 30, 30, 30, 30, 30, 30, 30, 30, 30, 30, 30, 30, 30, 30, 30, 30, 30, 30, 30, 30, 30, 30, 30, 30, 30, 30, 30, 30, 30, 30, 30, 30, 30, 30, 30, 30, 30, 30, 30, 30, 30, 30, 30, 30, 30, 30, 30, 30, 26, 30, 30, 30, 30, 30, 30, 30, 30, 30, 30, 30, 30, 30, 30, 29, 28, 29, 30, 30, 30, 30, 30, 30, 30, 30, 30, 30, 30, 30, 30, 30, 30, 30, 30, 21, 30, 30, 30, 30, 30]\n"
     ]
    }
   ],
   "source": [
    "# 统计每个考点教室所能容纳的人数\n",
    "groups1 = pd.read_excel(\"考场容量表.xls\").groupby(\"zzllkddm\")\n",
    "print(groups1.apply(lambda x:x))\n",
    "print(groups1.get_group(6103)[\"renshu\"].tolist())"
   ]
  },
  {
   "cell_type": "code",
   "execution_count": null,
   "metadata": {},
   "outputs": [],
   "source": [
    "def Sum_matrix(matrix):\n",
    "    sum=0\n",
    "    for i in range(len(matrix)):\n",
    "        for j in range(len(matrix[i])):\n",
    "            sum+=matrix[i][j]\n",
    "    return sum"
   ]
  },
  {
   "cell_type": "code",
   "execution_count": null,
   "metadata": {},
   "outputs": [],
   "source": [
    "import pandas as pd\n",
    "pd.options.display.max_rows = None\n",
    "# 分组算法\n",
    "# pd.set_option('display.max_rows',200)\n",
    "# StuNum = np.loadtxt(\"classfier6127.txt\")\n",
    "aa=pd.read_csv(\"classfier6105.txt\",encoding='gb2312',header=None)\n",
    "aa.columns=['num','s1','s2','s3','s4','s5']\n",
    "# 对txt文件的数据排序，方便后面索引对应\n",
    "print(\"各专业人数\")\n",
    "print(aa.sort_values(by='num',axis=0).reset_index(drop=True))\n",
    "StuNum = pd.read_csv(\"classfier6105.txt\",encoding='gb2312',header=None).iloc[:,0].tolist()\n",
    "\n",
    "# 设置参数：教室最多可容纳人数、考场允许最大专业数量\n",
    "max_student=groups1.get_group(6105)[\"renshu\"].tolist()\n",
    "print(\"考场容量：\",max_student)\n",
    "print(\"考场数量：\",len(max_student))\n",
    "max_subject=5\n",
    "# 存放分组结果\n",
    "groups = []\n",
    "\n",
    "# 这里还没有考虑取余的情况\n",
    "for i in range(len(StuNum)):\n",
    "    StuNum[i] = StuNum[i] % 30\n",
    "\n",
    "StuNum.sort()\n",
    "# print(len(StuNum))\n",
    "start = 0\n",
    "end = len(StuNum)-1\n",
    "classroom = 0\n",
    "while(start<end and classroom<len(max_student)):\n",
    "    class_subject = []#用来存储人数对应的索引，输出的就是这个，和上面txt文件的输出对应\n",
    "    class_sum = StuNum[end]#每次循环初始，让sum等于尾指针指向的数\n",
    "    subject = 1\n",
    "    class_subject.append(end)\n",
    "    # 人数不超过教室容量、专业不超过教室容量、专业还未分完\n",
    "    while(class_sum<max_student[classroom] and subject<max_subject and start<end):\n",
    "        class_sum = class_sum + StuNum[start]\n",
    "        class_subject.append(start)\n",
    "        start = start+1\n",
    "        subject = subject+1\n",
    "    end = end-1\n",
    "    classroom+=1\n",
    "    groups.append(class_subject)\n",
    "\n",
    "print(groups)\n",
    "print(len(groups))\n",
    "# 下面的数字是不同袋子的编号"
   ]
  },
  {
   "cell_type": "code",
   "execution_count": null,
   "metadata": {},
   "outputs": [
    {
     "name": "stdout",
     "output_type": "stream",
     "text": [
      "  category info  count\n",
      "0        A    x      2\n",
      "1        B    z      1\n",
      "2        C    h      2\n",
      "3        C    u      1\n"
     ]
    }
   ],
   "source": [
    "import pandas as pd  \n",
    "  \n",
    "# 示例数据  \n",
    "data = {  \n",
    "    'category': ['A', 'A', 'B', 'C', 'C', 'C'],  \n",
    "    'value': [1, 2, 3, 4, 5, 6],  \n",
    "    'info': ['x', 'x', 'z', 'h', 'h', 'u']  \n",
    "}  \n",
    "df = pd.DataFrame(data)  \n",
    "  \n",
    "# 使用groupby和agg来合并行，并保留某些列的值，同时添加行数信息  \n",
    "# 注意：这里我们假设'value'列使用'sum'作为示例（你可以根据需要更改），而'info'列使用'first'  \n",
    "# 我们还添加了一个新列'count'，它包含每个组的行数  \n",
    "result = df.groupby(['category','info']).agg(  \n",
    "    # value=('value', 'sum'),  # 对'value'列使用'sum'聚合  \n",
    " # 对'info'列使用'first'聚合（或'last'、'min'、'max'等）  \n",
    "    count=('category', 'size')  # 使用'size'来计算每个组的行数，并将其作为'count'列  \n",
    ").reset_index()  # 重置索引，使'category'成为普通列  \n",
    "  \n",
    "# 输出结果  \n",
    "print(result)"
   ]
  }
 ],
 "metadata": {
  "kernelspec": {
   "display_name": "d2l",
   "language": "python",
   "name": "python3"
  },
  "language_info": {
   "codemirror_mode": {
    "name": "ipython",
    "version": 3
   },
   "file_extension": ".py",
   "mimetype": "text/x-python",
   "name": "python",
   "nbconvert_exporter": "python",
   "pygments_lexer": "ipython3",
   "version": "3.8.15"
  }
 },
 "nbformat": 4,
 "nbformat_minor": 2
}
